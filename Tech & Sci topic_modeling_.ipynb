{
  "nbformat": 4,
  "nbformat_minor": 0,
  "metadata": {
    "colab": {
      "provenance": [],
      "authorship_tag": "ABX9TyOkZtVLxL9onwumGUkCA3nj",
      "include_colab_link": true
    },
    "kernelspec": {
      "name": "python3",
      "display_name": "Python 3"
    },
    "language_info": {
      "name": "python"
    }
  },
  "cells": [
    {
      "cell_type": "markdown",
      "metadata": {
        "id": "view-in-github",
        "colab_type": "text"
      },
      "source": [
        "<a href=\"https://colab.research.google.com/github/cy-fahad/British-library-austerity-analysis-/blob/main/Tech%20%26%20Sci%20topic_modeling_.ipynb\" target=\"_parent\"><img src=\"https://colab.research.google.com/assets/colab-badge.svg\" alt=\"Open In Colab\"/></a>"
      ]
    },
    {
      "cell_type": "code",
      "source": [
        "# Step 1: Data Loading and Initial Exploration\n",
        "# Run this cell first to load and explore our focused dataset\n",
        "\n",
        "import pandas as pd\n",
        "import numpy as np\n",
        "from sklearn.datasets import fetch_20newsgroups\n",
        "import matplotlib.pyplot as plt\n",
        "import seaborn as sns\n"
      ],
      "metadata": {
        "id": "tWs9cymA92zM"
      },
      "execution_count": 2,
      "outputs": []
    },
    {
      "cell_type": "code",
      "source": [
        "# Define our target newsgroups for tech vs science analysis\n",
        "tech_categories = ['comp.graphics', 'comp.windows.x', 'comp.sys.mac.hardware']\n",
        "science_categories = ['sci.space', 'sci.med', 'sci.electronics']\n",
        "\n",
        "target_categories = tech_categories + science_categories\n",
        "\n",
        "print(\"Loading 20newsgroups dataset...\")\n",
        "print(f\"Target categories: {target_categories}\")"
      ],
      "metadata": {
        "colab": {
          "base_uri": "https://localhost:8080/"
        },
        "id": "TBW2-QLg-RoL",
        "outputId": "832f4c18-6a22-47c8-da16-6cd1796c1f2d"
      },
      "execution_count": 3,
      "outputs": [
        {
          "output_type": "stream",
          "name": "stdout",
          "text": [
            "Loading 20newsgroups dataset...\n",
            "Target categories: ['comp.graphics', 'comp.windows.x', 'comp.sys.mac.hardware', 'sci.space', 'sci.med', 'sci.electronics']\n"
          ]
        }
      ]
    },
    {
      "cell_type": "code",
      "source": [
        "# Load the dataset with only our target categories\n",
        "newsgroups_data = fetch_20newsgroups(\n",
        "    subset='all',  # Get both train and test data\n",
        "    categories=target_categories,\n",
        "    shuffle=True,\n",
        "    random_state=42,\n",
        "    remove=('headers', 'footers', 'quotes')  # Clean up the text\n",
        ")\n",
        "\n",
        "# Create a DataFrame for easier manipulation\n",
        "df = pd.DataFrame({\n",
        "    'text': newsgroups_data.data,\n",
        "    'category': [newsgroups_data.target_names[i] for i in newsgroups_data.target],\n",
        "    'domain': ['Technology' if cat.startswith('comp.') else 'Science'\n",
        "               for cat in [newsgroups_data.target_names[i] for i in newsgroups_data.target]]\n",
        "})\n",
        "\n",
        "print(f\"\\nDataset loaded successfully!\")\n",
        "print(f\"Total documents: {len(df)}\")\n",
        "print(f\"Categories distribution:\")\n",
        "print(df['category'].value_counts())\n",
        "\n",
        "print(f\"\\nDomain distribution:\")\n",
        "print(df['domain'].value_counts())"
      ],
      "metadata": {
        "colab": {
          "base_uri": "https://localhost:8080/"
        },
        "id": "tB3UiXTP-nM3",
        "outputId": "2e8aecb8-275e-4962-a82a-524644cf00ad"
      },
      "execution_count": 4,
      "outputs": [
        {
          "output_type": "stream",
          "name": "stdout",
          "text": [
            "\n",
            "Dataset loaded successfully!\n",
            "Total documents: 5885\n",
            "Categories distribution:\n",
            "category\n",
            "sci.med                  990\n",
            "comp.windows.x           988\n",
            "sci.space                987\n",
            "sci.electronics          984\n",
            "comp.graphics            973\n",
            "comp.sys.mac.hardware    963\n",
            "Name: count, dtype: int64\n",
            "\n",
            "Domain distribution:\n",
            "domain\n",
            "Science       2961\n",
            "Technology    2924\n",
            "Name: count, dtype: int64\n"
          ]
        }
      ]
    },
    {
      "cell_type": "code",
      "source": [
        "# Show sample documents\n",
        "print(f\"\\nSample documents:\")\n",
        "for i, (domain, group) in enumerate(df.groupby('domain')):\n",
        "    print(f\"\\n=== {domain.upper()} SAMPLE ===\")\n",
        "    sample_text = group.iloc[0]['text'][:300] + \"...\"\n",
        "    print(f\"Category: {group.iloc[0]['category']}\")\n",
        "    print(f\"Text: {sample_text}\")\n",
        "    if i >= 1:  # Show only 2 samples\n",
        "        break\n"
      ],
      "metadata": {
        "colab": {
          "base_uri": "https://localhost:8080/"
        },
        "id": "OVtPIoPi--Ai",
        "outputId": "44492249-47cf-4f0f-ef2b-1b98b3bdbbce"
      },
      "execution_count": 5,
      "outputs": [
        {
          "output_type": "stream",
          "name": "stdout",
          "text": [
            "\n",
            "Sample documents:\n",
            "\n",
            "=== SCIENCE SAMPLE ===\n",
            "Category: sci.electronics\n",
            "Text: \n",
            "\n",
            "\n",
            "That is an exceptionally cool idea.\n",
            "Would it work?\n",
            "\n",
            "How strong a field is needed?\n",
            "Anyone?\n",
            "\n",
            "...\n",
            "\n",
            "=== TECHNOLOGY SAMPLE ===\n",
            "Category: comp.windows.x\n",
            "Text: Can anyone help with this?\n",
            "\n",
            "System: SPARC Classic, Solaris 2.1, gcc 2.3.3, X11R5\n",
            "\n",
            "When I try to build the XView libraries (xview3, patched with the patch from\n",
            "the X11R5-Solaris kit), I get the following error:\n",
            "\n",
            "rm -f ndet_loop.o shared/ndet_loop.o\n",
            "gcc -fpcc-struct-return -E   -O2  -I../../.././build...\n"
          ]
        }
      ]
    },
    {
      "cell_type": "code",
      "source": [
        "# Basic text statistics\n",
        "df['text_length'] = df['text'].str.len()\n",
        "print(f\"\\nText length statistics:\")\n",
        "print(df.groupby('domain')['text_length'].describe())\n"
      ],
      "metadata": {
        "colab": {
          "base_uri": "https://localhost:8080/"
        },
        "id": "lN4nYHX-_PSt",
        "outputId": "3838eb84-622a-4594-aa78-4b470894bc44"
      },
      "execution_count": 6,
      "outputs": [
        {
          "output_type": "stream",
          "name": "stdout",
          "text": [
            "\n",
            "Text length statistics:\n",
            "             count         mean          std  min    25%    50%    75%  \\\n",
            "domain                                                                   \n",
            "Science     2961.0  1079.683891  3104.369785  0.0  258.0  510.0  935.0   \n",
            "Technology  2924.0  1144.841997  4840.421694  0.0  224.0  415.5  777.0   \n",
            "\n",
            "                max  \n",
            "domain               \n",
            "Science     72161.0  \n",
            "Technology  65424.0  \n"
          ]
        }
      ]
    },
    {
      "cell_type": "code",
      "source": [
        "# Visualization\n",
        "plt.figure(figsize=(12, 4))\n",
        "\n",
        "plt.subplot(1, 2, 1)\n",
        "df['category'].value_counts().plot(kind='bar', rot=45)\n",
        "plt.title('Documents per Category')\n",
        "plt.tight_layout()\n",
        "\n",
        "plt.subplot(1, 2, 2)\n",
        "df.groupby('domain')['text_length'].hist(alpha=0.7, bins=30)\n",
        "plt.xlabel('Text Length (characters)')\n",
        "plt.ylabel('Frequency')\n",
        "plt.title('Text Length Distribution by Domain')\n",
        "plt.legend(['Technology', 'Science'])\n",
        "plt.tight_layout()\n",
        "\n",
        "plt.show()\n",
        "\n",
        "print(f\"\\n✅ Data loading complete! Ready for preprocessing.\")\n",
        "print(f\"Next step: Text preprocessing with spaCy\")"
      ],
      "metadata": {
        "colab": {
          "base_uri": "https://localhost:8080/",
          "height": 459
        },
        "id": "VoIT5Jmr_X7q",
        "outputId": "cd16843f-72c0-4cae-a10f-fd91dece3b55"
      },
      "execution_count": 7,
      "outputs": [
        {
          "output_type": "display_data",
          "data": {
            "text/plain": [
              "<Figure size 1200x400 with 2 Axes>"
            ],
            "image/png": "[encoded data removed]"
          },
          "metadata": {}
        },
        {
          "output_type": "stream",
          "name": "stdout",
          "text": [
            "\n",
            "✅ Data loading complete! Ready for preprocessing.\n",
            "Next step: Text preprocessing with spaCy\n"
          ]
        }
      ]
    },
    {
      "cell_type": "code",
      "source": [
        "# Step 2: Text Preprocessing with spaCy\n",
        "# This will clean and prepare our text for topic modeling\n",
        "\n",
        "import spacy\n",
        "import re\n",
        "from collections import Counter\n",
        "\n",
        "# Install required packages (run only if needed)\n",
        "# !pip install spacy\n",
        "# !python -m spacy download en_core_web_sm\n",
        "\n",
        "print(\"Loading spaCy model...\")\n",
        "try:\n",
        "    nlp = spacy.load(\"en_core_web_sm\")\n",
        "    print(\"✅ spaCy model loaded successfully!\")\n",
        "except OSError:\n",
        "    print(\"Installing spaCy English model...\")\n",
        "    import subprocess\n",
        "    subprocess.run([\"python\", \"-m\", \"spacy\", \"download\", \"en_core_web_sm\"])\n",
        "    nlp = spacy.load(\"en_core_web_sm\")\n",
        "\n",
        "def preprocess_text(text):\n",
        "    # Basic cleaning\n",
        "    text = re.sub(r'http\\S+|www\\S+', '', text)\n",
        "    text = re.sub(r'\\S+@\\S+', '', text)\n",
        "    text = re.sub(r'[^a-zA-Z\\s]', ' ', text)\n",
        "    text = re.sub(r'\\s+', ' ', text).strip()\n",
        "\n",
        "    if len(text) < 50:\n",
        "        return []\n",
        "\n",
        "    doc = nlp(text)\n",
        "\n",
        "    tokens = []\n",
        "    for token in doc:\n",
        "        if (not token.is_stop and\n",
        "            not token.is_punct and\n",
        "            not token.is_space and\n",
        "            len(token.text) > 2 and\n",
        "            token.pos_ in ['NOUN', 'ADJ', 'VERB'] and\n",
        "            token.is_alpha):\n",
        "            tokens.append(token.lemma_.lower())\n",
        "\n",
        "    return tokens\n",
        "\n",
        "print(\"Preprocessing texts... This may take 2-3 minutes\")\n",
        "\n",
        "processed_texts = []\n",
        "valid_indices = []\n",
        "\n",
        "for idx, text in enumerate(df['text']):\n",
        "    tokens = preprocess_text(text)\n",
        "    if len(tokens) >= 5:\n",
        "        processed_texts.append(tokens)\n",
        "        valid_indices.append(idx)\n",
        "\n",
        "    if (idx + 1) % 1000 == 0:\n",
        "        print(f\"Processed {idx + 1}/{len(df)} documents...\")\n",
        "\n",
        "df_processed = df.iloc[valid_indices].copy()\n",
        "df_processed['processed_tokens'] = processed_texts\n",
        "\n",
        "print(f\"\\n✅ Preprocessing complete!\")\n",
        "print(f\"Documents before: {len(df)}\")\n",
        "print(f\"Documents after: {len(df_processed)}\")\n",
        "\n",
        "print(f\"\\nSample processed documents:\")\n",
        "for i in range(2):\n",
        "    print(f\"\\nCategory: {df_processed.iloc[i]['category']}\")\n",
        "    print(f\"Processed tokens (first 15): {df_processed.iloc[i]['processed_tokens'][:15]}\")\n",
        "\n",
        "all_tokens = [token for tokens in processed_texts for token in tokens]\n",
        "vocab_counter = Counter(all_tokens)\n",
        "\n",
        "print(f\"\\nVocabulary Statistics:\")\n",
        "print(f\"Total tokens: {len(all_tokens):,}\")\n",
        "print(f\"Unique tokens: {len(vocab_counter):,}\")\n",
        "print(f\"Average tokens per document: {len(all_tokens)/len(processed_texts):.1f}\")\n",
        "\n",
        "print(f\"\\nMost common tokens:\")\n",
        "for token, count in vocab_counter.most_common(15):\n",
        "    print(f\"  {token}: {count}\")\n",
        "\n",
        "print(f\"\\n✅ Ready for topic modeling!\")"
      ],
      "metadata": {
        "colab": {
          "base_uri": "https://localhost:8080/"
        },
        "id": "ZZGKkahKDUEs",
        "outputId": "d58d3092-d35d-4a85-ac9a-198c0827acda"
      },
      "execution_count": 8,
      "outputs": [
        {
          "output_type": "stream",
          "name": "stdout",
          "text": [
            "Loading spaCy model...\n",
            "✅ spaCy model loaded successfully!\n",
            "Preprocessing texts... This may take 2-3 minutes\n",
            "Processed 1000/5885 documents...\n",
            "Processed 2000/5885 documents...\n",
            "Processed 3000/5885 documents...\n",
            "Processed 4000/5885 documents...\n",
            "Processed 5000/5885 documents...\n",
            "\n",
            "✅ Preprocessing complete!\n",
            "Documents before: 5885\n",
            "Documents after: 5442\n",
            "\n",
            "Sample processed documents:\n",
            "\n",
            "Category: comp.windows.x\n",
            "Processed tokens (first 15): ['help', 'system', 'sparc', 'gcc', 'try', 'build', 'library', 'patch', 'patch', 'kit', 'follow', 'error', 'share', 'ndet', 'struct']\n",
            "\n",
            "Category: sci.electronics\n",
            "Processed tokens (first 15): ['cool', 'idea', 'work', 'strong', 'field', 'need']\n",
            "\n",
            "Vocabulary Statistics:\n",
            "Total tokens: 363,883\n",
            "Unique tokens: 19,660\n",
            "Average tokens per document: 66.9\n",
            "\n",
            "Most common tokens:\n",
            "  use: 2606\n",
            "  file: 2271\n",
            "  know: 2045\n",
            "  image: 1887\n",
            "  program: 1877\n",
            "  work: 1789\n",
            "  time: 1609\n",
            "  problem: 1551\n",
            "  system: 1477\n",
            "  need: 1434\n",
            "  find: 1386\n",
            "  include: 1373\n",
            "  run: 1368\n",
            "  good: 1346\n",
            "  look: 1289\n",
            "\n",
            "✅ Ready for topic modeling!\n"
          ]
        }
      ]
    },
    {
      "cell_type": "code",
      "source": [
        "# Step 3: Topic Modeling with Gensim LDA\n",
        "# Create document-term matrix and run LDA topic modeling\n",
        "\n",
        "import gensim\n",
        "from gensim import corpora, models\n",
        "from gensim.models import CoherenceModel\n",
        "import warnings\n",
        "warnings.filterwarnings('ignore')\n",
        "\n",
        "print(\"Creating document-term matrix...\")"
      ],
      "metadata": {
        "colab": {
          "base_uri": "https://localhost:8080/"
        },
        "id": "clGXZVCiEy6Y",
        "outputId": "5d1e787b-2c9d-4adb-e01c-72552dd5e59a"
      },
      "execution_count": 8,
      "outputs": [
        {
          "output_type": "stream",
          "name": "stdout",
          "text": [
            "Creating document-term matrix...\n"
          ]
        }
      ]
    },
    {
      "cell_type": "code",
      "metadata": {
        "colab": {
          "base_uri": "https://localhost:8080/"
        },
        "id": "6vjIiShgBSiT",
        "outputId": "e2d145a5-a25c-49f4-880c-9c39afef9be0"
      },
      "source": [
        "def preprocess_text(text):\n",
        "    # Basic cleaning\n",
        "    text = re.sub(r'http\\S+|www\\S+', '', text)\n",
        "    text = re.sub(r'\\S+@\\S+', '', text)\n",
        "    text = re.sub(r'[^a-zA-Z\\s]', ' ', text)\n",
        "    text = re.sub(r'\\s+', ' ', text).strip()\n",
        "\n",
        "    if len(text) < 50:\n",
        "        return []\n",
        "\n",
        "    doc = nlp(text)\n",
        "\n",
        "    # Extract relevant tokens\n",
        "    tokens = []\n",
        "    for token in doc:\n",
        "        # Keep only meaningful tokens\n",
        "        if (not token.is_stop and           # Not a stopword\n",
        "            not token.is_punct and          # Not punctuation\n",
        "            not token.is_space and          # Not whitespace\n",
        "            len(token.text) > 2 and         # At least 3 characters\n",
        "            token.pos_ in ['NOUN', 'ADJ', 'VERB'] and  # Relevant POS tags\n",
        "            token.is_alpha):                # Only alphabetic\n",
        "\n",
        "            # Use lemma (root form)\n",
        "            tokens.append(token.lemma_.lower())\n",
        "\n",
        "    return tokens\n",
        "\n",
        "print(\"Preprocessing texts... This may take 2-3 minutes for 5,885 documents\")\n",
        "\n",
        "# Apply preprocessing to all texts\n",
        "processed_texts = []\n",
        "valid_indices = []\n",
        "\n",
        "for idx, text in enumerate(df['text']):\n",
        "    tokens = preprocess_text(text)\n",
        "    if len(tokens) >= 5:  # Keep documents with at least 5 meaningful tokens\n",
        "        processed_texts.append(tokens)\n",
        "        valid_indices.append(idx)\n",
        "\n",
        "    if (idx + 1) % 1000 == 0:\n",
        "        print(f\"Processed {idx + 1}/{len(df)} documents...\")\n",
        "\n",
        "df_processed = df.iloc[valid_indices].copy()\n",
        "df_processed['processed_tokens'] = processed_texts\n",
        "\n",
        "print(f\"\\n✅ Preprocessing complete!\")\n",
        "print(f\"Documents before: {len(df)}\")\n",
        "print(f\"Documents after: {len(df_processed)}\")\n",
        "\n",
        "print(f\"\\nSample processed documents:\")\n",
        "for i in range(2):\n",
        "    print(f\"\\nCategory: {df_processed.iloc[i]['category']}\")\n",
        "    print(f\"Processed tokens (first 15): {df_processed.iloc[i]['processed_tokens'][:15]}\")\n",
        "\n",
        "all_tokens = [token for tokens in processed_texts for token in tokens]\n",
        "vocab_counter = Counter(all_tokens)\n",
        "\n",
        "print(f\"\\nVocabulary Statistics:\")\n",
        "print(f\"Total tokens: {len(all_tokens):,}\")\n",
        "print(f\"Unique tokens: {len(vocab_counter):,}\")\n",
        "print(f\"Average tokens per document: {len(all_tokens)/len(processed_texts):.1f}\")\n",
        "\n",
        "print(f\"\\nMost common tokens:\")\n",
        "for token, count in vocab_counter.most_common(15):\n",
        "    print(f\"  {token}: {count}\")\n",
        "\n",
        "print(f\"\\n✅ Ready for topic modeling!\")"
      ],
      "execution_count": 9,
      "outputs": [
        {
          "output_type": "stream",
          "name": "stdout",
          "text": [
            "Preprocessing texts... This may take 2-3 minutes for 5,885 documents\n",
            "Processed 1000/5885 documents...\n",
            "Processed 2000/5885 documents...\n",
            "Processed 3000/5885 documents...\n",
            "Processed 4000/5885 documents...\n",
            "Processed 5000/5885 documents...\n",
            "\n",
            "✅ Preprocessing complete!\n",
            "Documents before: 5885\n",
            "Documents after: 5442\n",
            "\n",
            "Sample processed documents:\n",
            "\n",
            "Category: comp.windows.x\n",
            "Processed tokens (first 15): ['help', 'system', 'sparc', 'gcc', 'try', 'build', 'library', 'patch', 'patch', 'kit', 'follow', 'error', 'share', 'ndet', 'struct']\n",
            "\n",
            "Category: sci.electronics\n",
            "Processed tokens (first 15): ['cool', 'idea', 'work', 'strong', 'field', 'need']\n",
            "\n",
            "Vocabulary Statistics:\n",
            "Total tokens: 363,883\n",
            "Unique tokens: 19,660\n",
            "Average tokens per document: 66.9\n",
            "\n",
            "Most common tokens:\n",
            "  use: 2606\n",
            "  file: 2271\n",
            "  know: 2045\n",
            "  image: 1887\n",
            "  program: 1877\n",
            "  work: 1789\n",
            "  time: 1609\n",
            "  problem: 1551\n",
            "  system: 1477\n",
            "  need: 1434\n",
            "  find: 1386\n",
            "  include: 1373\n",
            "  run: 1368\n",
            "  good: 1346\n",
            "  look: 1289\n",
            "\n",
            "✅ Ready for topic modeling!\n"
          ]
        }
      ]
    },
    {
      "cell_type": "code",
      "metadata": {
        "colab": {
          "base_uri": "https://localhost:8080/"
        },
        "id": "28808640",
        "outputId": "4c678aab-225a-40d4-aa64-087a3eb33467"
      },
      "source": [
        "# Install the gensim library\n",
        "!pip install gensim"
      ],
      "execution_count": 12,
      "outputs": [
        {
          "output_type": "stream",
          "name": "stdout",
          "text": [
            "Requirement already satisfied: gensim in /usr/local/lib/python3.11/dist-packages (4.3.3)\n",
            "Requirement already satisfied: numpy<2.0,>=1.18.5 in /usr/local/lib/python3.11/dist-packages (from gensim) (1.26.4)\n",
            "Requirement already satisfied: scipy<1.14.0,>=1.7.0 in /usr/local/lib/python3.11/dist-packages (from gensim) (1.13.1)\n",
            "Requirement already satisfied: smart-open>=1.8.1 in /usr/local/lib/python3.11/dist-packages (from gensim) (7.3.0.post1)\n",
            "Requirement already satisfied: wrapt in /usr/local/lib/python3.11/dist-packages (from smart-open>=1.8.1->gensim) (1.17.2)\n"
          ]
        }
      ]
    },
    {
      "cell_type": "code",
      "source": [
        "import gensim\n",
        "from gensim import corpora, models\n",
        "\n",
        "# Create dictionary (vocabulary)\n",
        "dictionary = gensim.corpora.Dictionary(processed_texts)\n",
        "print(f\"Dictionary created with {len(dictionary)} unique tokens\")\n",
        "\n",
        "# Filter extremes to improve topic quality\n",
        "# Remove words that appear in less than 10 documents OR more than 50% of documents\n",
        "dictionary.filter_extremes(no_below=10, no_above=0.5)\n",
        "print(f\"After filtering: {len(dictionary)} unique tokens\")\n",
        "\n",
        "# Create corpus (document-term matrix)\n",
        "corpus = [dictionary.doc2bow(doc) for doc in processed_texts]\n",
        "print(f\"Corpus created with {len(corpus)} documents\")\n",
        "\n",
        "# Show sample document representation\n",
        "print(f\"\\nSample document as bag-of-words (first 10 terms):\")\n",
        "sample_bow = corpus[0][:10]\n",
        "for word_id, freq in sample_bow:\n",
        "    print(f\"  '{dictionary[word_id]}': {freq}\")\n",
        "\n",
        "print(f\"\\n\" + \"=\"*50)\n",
        "print(\"RUNNING LDA TOPIC MODELING\")\n",
        "print(\"=\"*50)"
      ],
      "metadata": {
        "colab": {
          "base_uri": "https://localhost:8080/"
        },
        "id": "nbnXQKTfKOLf",
        "outputId": "71667a4d-026f-4ba2-c5d6-a2fb7aa68432"
      },
      "execution_count": 14,
      "outputs": [
        {
          "output_type": "stream",
          "name": "stdout",
          "text": [
            "Dictionary created with 19660 unique tokens\n",
            "After filtering: 3214 unique tokens\n",
            "Corpus created with 5442 documents\n",
            "\n",
            "Sample document as bag-of-words (first 10 terms):\n",
            "  'act': 1\n",
            "  'appear': 2\n",
            "  'appreciate': 1\n",
            "  'approach': 1\n",
            "  'beauty': 1\n",
            "  'build': 15\n",
            "  'cast': 2\n",
            "  'change': 2\n",
            "  'class': 8\n",
            "  'code': 2\n",
            "\n",
            "==================================================\n",
            "RUNNING LDA TOPIC MODELING\n",
            "==================================================\n"
          ]
        }
      ]
    },
    {
      "cell_type": "code",
      "source": [
        "from gensim.models.coherencemodel import CoherenceModel\n",
        "import gensim\n",
        "from gensim import corpora, models\n",
        "import warnings\n",
        "warnings.filterwarnings('ignore')\n",
        "\n",
        "# Try different numbers of topics to find optimal\n",
        "topic_numbers = [6, 8, 10]\n",
        "models_results = {}\n",
        "\n",
        "for num_topics in topic_numbers:\n",
        "    print(f\"\\nTraining LDA model with {num_topics} topics...\")\n",
        "\n",
        "    # Train LDA model\n",
        "    lda_model = models.LdaModel(\n",
        "        corpus=corpus,\n",
        "        id2word=dictionary,\n",
        "        num_topics=num_topics,\n",
        "        random_state=42,\n",
        "        passes=10,\n",
        "        alpha='auto',\n",
        "        per_word_topics=True,\n",
        "        minimum_probability=0.01\n",
        "    )\n",
        "\n",
        "    # Calculate coherence score\n",
        "    coherence_model = CoherenceModel(\n",
        "        model=lda_model,\n",
        "        texts=processed_texts,\n",
        "        dictionary=dictionary,\n",
        "        coherence='c_v'\n",
        "    )\n",
        "    coherence_score = coherence_model.get_coherence()\n",
        "\n",
        "    models_results[num_topics] = {\n",
        "        'model': lda_model,\n",
        "        'coherence': coherence_score\n",
        "    }\n",
        "\n",
        "    print(f\"  Coherence score: {coherence_score:.4f}\")"
      ],
      "metadata": {
        "colab": {
          "base_uri": "https://localhost:8080/"
        },
        "id": "mU2SBUfTM4w5",
        "outputId": "1450fb1f-4441-4414-86ba-467520d25389"
      },
      "execution_count": 16,
      "outputs": [
        {
          "output_type": "stream",
          "name": "stdout",
          "text": [
            "\n",
            "Training LDA model with 6 topics...\n",
            "  Coherence score: 0.4843\n",
            "\n",
            "Training LDA model with 8 topics...\n",
            "  Coherence score: 0.5395\n",
            "\n",
            "Training LDA model with 10 topics...\n",
            "  Coherence score: 0.5089\n"
          ]
        }
      ]
    },
    {
      "cell_type": "code",
      "source": [
        "# Select best model based on coherence\n",
        "best_num_topics = max(models_results.keys(), key=lambda k: models_results[k]['coherence'])\n",
        "best_model = models_results[best_num_topics]['model']\n",
        "best_coherence = models_results[best_num_topics]['coherence']\n",
        "\n",
        "print(f\"\\n🏆 BEST MODEL: {best_num_topics} topics (coherence: {best_coherence:.4f})\")\n",
        "\n",
        "print(f\"\\n\" + \"=\"*50)\n",
        "print(\"TOPIC ANALYSIS RESULTS\")\n",
        "print(\"=\"*50)\n",
        "\n",
        "# Display topics with their top words\n",
        "print(f\"\\nTop words for each topic:\")\n",
        "for topic_id in range(best_num_topics):\n",
        "    topic_words = best_model.show_topic(topic_id, topn=10)\n",
        "    words = [word for word, prob in topic_words]\n",
        "    probs = [prob for word, prob in topic_words]\n",
        "\n",
        "    print(f\"\\nTopic {topic_id}:\")\n",
        "    print(f\"  Top words: {', '.join(words[:8])}\")\n",
        "    print(f\"  Word probabilities: {[f'{p:.3f}' for p in probs[:5]]}\")\n",
        "\n",
        "# Analyze document-topic distributions\n",
        "print(f\"\\n\" + \"=\"*30)\n",
        "print(\"DOCUMENT-TOPIC ANALYSIS\")\n",
        "print(\"=\"*30)"
      ],
      "metadata": {
        "colab": {
          "base_uri": "https://localhost:8080/"
        },
        "id": "f_sQPAsxPD8q",
        "outputId": "4ade3ea3-3498-41de-a9a9-64d76b51cd5a"
      },
      "execution_count": 17,
      "outputs": [
        {
          "output_type": "stream",
          "name": "stdout",
          "text": [
            "\n",
            "🏆 BEST MODEL: 8 topics (coherence: 0.5395)\n",
            "\n",
            "==================================================\n",
            "TOPIC ANALYSIS RESULTS\n",
            "==================================================\n",
            "\n",
            "Top words for each topic:\n",
            "\n",
            "Topic 0:\n",
            "  Top words: window, run, use, server, work, display, application, card\n",
            "  Word probabilities: ['0.021', '0.016', '0.013', '0.012', '0.012']\n",
            "\n",
            "Topic 1:\n",
            "  Top words: patient, people, know, year, cause, disease, doctor, think\n",
            "  Word probabilities: ['0.008', '0.008', '0.007', '0.007', '0.007']\n",
            "\n",
            "Topic 2:\n",
            "  Top words: available, include, file, image, list, graphic, pub, source\n",
            "  Word probabilities: ['0.019', '0.016', '0.013', '0.012', '0.012']\n",
            "\n",
            "Topic 3:\n",
            "  Top words: file, entry, program, output, line, widget, use, set\n",
            "  Word probabilities: ['0.024', '0.019', '0.018', '0.017', '0.014']\n",
            "\n",
            "Topic 4:\n",
            "  Top words: space, launch, year, orbit, satellite, mission, system, time\n",
            "  Word probabilities: ['0.018', '0.011', '0.010', '0.009', '0.008']\n",
            "\n",
            "Topic 5:\n",
            "  Top words: image, file, color, format, bit, program, jpeg, display\n",
            "  Word probabilities: ['0.042', '0.029', '0.021', '0.017', '0.016']\n",
            "\n",
            "Topic 6:\n",
            "  Top words: power, ground, wire, battery, use, heat, water, temperature\n",
            "  Word probabilities: ['0.022', '0.019', '0.018', '0.012', '0.011']\n",
            "\n",
            "Topic 7:\n",
            "  Top words: know, think, work, problem, want, get, use, thing\n",
            "  Word probabilities: ['0.016', '0.012', '0.011', '0.011', '0.010']\n",
            "\n",
            "==============================\n",
            "DOCUMENT-TOPIC ANALYSIS\n",
            "==============================\n"
          ]
        }
      ]
    },
    {
      "cell_type": "code",
      "source": [
        "# Get topic predictions for all documents\n",
        "doc_topics = []\n",
        "for doc_bow in corpus:\n",
        "    doc_topic_dist = best_model.get_document_topics(doc_bow, minimum_probability=0.01)\n",
        "    # Get dominant topic (highest probability)\n",
        "    if doc_topic_dist:\n",
        "        dominant_topic = max(doc_topic_dist, key=lambda x: x[1])\n",
        "        doc_topics.append(dominant_topic[0])\n",
        "    else:\n",
        "        doc_topics.append(-1)  # No clear topic\n",
        "\n",
        "# Add predictions to dataframe\n",
        "df_processed['predicted_topic'] = doc_topics\n",
        "\n",
        "# Analyze topic distribution by original categories\n",
        "print(f\"\\nTopic distribution by newsgroup category:\")\n",
        "topic_category_crosstab = pd.crosstab(\n",
        "    df_processed['category'],\n",
        "    df_processed['predicted_topic'],\n",
        "    margins=True\n",
        ")\n",
        "print(topic_category_crosstab)\n",
        "\n",
        "print(f\"\\nTopic distribution by domain (Tech vs Science):\")\n",
        "topic_domain_crosstab = pd.crosstab(\n",
        "    df_processed['domain'],\n",
        "    df_processed['predicted_topic'],\n",
        "    margins=True\n",
        ")\n",
        "print(topic_domain_crosstab)\n"
      ],
      "metadata": {
        "colab": {
          "base_uri": "https://localhost:8080/"
        },
        "id": "0O45Ppy7RlO3",
        "outputId": "6417ec27-8909-4dd5-ef0e-167ba4e96923"
      },
      "execution_count": 18,
      "outputs": [
        {
          "output_type": "stream",
          "name": "stdout",
          "text": [
            "\n",
            "Topic distribution by newsgroup category:\n",
            "predicted_topic          0    1    2    3    4    5    6     7   All\n",
            "category                                                            \n",
            "comp.graphics          121   16  141   42   32  368    1   176   897\n",
            "comp.sys.mac.hardware  285    6   25    5    3   26   38   482   870\n",
            "comp.windows.x         365    6  138  181   11   87    0   136   924\n",
            "sci.electronics         58   26   18    5   23   30  131   619   910\n",
            "sci.med                  0  731    9    0   32   13    6   140   931\n",
            "sci.space                4  112   39   10  463   14   25   243   910\n",
            "All                    833  897  370  243  564  538  201  1796  5442\n",
            "\n",
            "Topic distribution by domain (Tech vs Science):\n",
            "predicted_topic    0    1    2    3    4    5    6     7   All\n",
            "domain                                                        \n",
            "Science           62  869   66   15  518   57  162  1002  2751\n",
            "Technology       771   28  304  228   46  481   39   794  2691\n",
            "All              833  897  370  243  564  538  201  1796  5442\n"
          ]
        }
      ]
    },
    {
      "cell_type": "code",
      "source": [
        "# Show sample documents for each topic\n",
        "print(f\"\\n\" + \"=\"*40)\n",
        "print(\"SAMPLE DOCUMENTS BY TOPIC\")\n",
        "print(\"=\"*40)\n",
        "\n",
        "for topic_id in range(best_num_topics):\n",
        "    topic_docs = df_processed[df_processed['predicted_topic'] == topic_id]\n",
        "    if len(topic_docs) > 0:\n",
        "        print(f\"\\nTopic {topic_id} - Sample document:\")\n",
        "        print(f\"  Category: {topic_docs.iloc[0]['category']}\")\n",
        "        print(f\"  Domain: {topic_docs.iloc[0]['domain']}\")\n",
        "        print(f\"  Text preview: {topic_docs.iloc[0]['text'][:200]}...\")\n",
        "        print(f\"  Key tokens: {topic_docs.iloc[0]['processed_tokens'][:12]}\")\n",
        "\n",
        "print(f\"\\n✅ Topic modeling complete!\")\n",
        "print(f\"Best model: {best_num_topics} topics with coherence score: {best_coherence:.4f}\")\n",
        "print(f\"Ready for results interpretation and paper writing!\")"
      ],
      "metadata": {
        "colab": {
          "base_uri": "https://localhost:8080/"
        },
        "id": "Y8iaMJVlRtiP",
        "outputId": "69a468b4-71ad-40b4-8a03-5119a30a3c46"
      },
      "execution_count": 19,
      "outputs": [
        {
          "output_type": "stream",
          "name": "stdout",
          "text": [
            "\n",
            "========================================\n",
            "SAMPLE DOCUMENTS BY TOPIC\n",
            "========================================\n",
            "\n",
            "Topic 0 - Sample document:\n",
            "  Category: sci.electronics\n",
            "  Domain: Science\n",
            "  Text preview: Have anyone some idea about how to build a cheap, low\n",
            "resolution (or high :-) video projector... ...\n",
            "  Key tokens: ['idea', 'build', 'cheap', 'low', 'resolution', 'high', 'video', 'projector']\n",
            "\n",
            "Topic 1 - Sample document:\n",
            "  Category: sci.med\n",
            "  Domain: Science\n",
            "  Text preview: \n",
            "\n",
            "For a brief, but pretty detailed account, try Hempel's _Philosophy of\n",
            "Natural Science_.\n",
            "\n",
            "\n",
            "This smacks a bit of ideology -- the supposition being that Toricelli's\n",
            "subsequent descriptions of his reaso...\n",
            "  Key tokens: ['brief', 'detailed', 'account', 'try', 'philosophy', 'smack', 'bit', 'ideology', 'supposition', 'subsequent', 'description', 'reasoning']\n",
            "\n",
            "Topic 2 - Sample document:\n",
            "  Category: comp.sys.mac.hardware\n",
            "  Domain: Technology\n",
            "  Text preview: \n",
            "I copy relevant articles like this and post'em on local BBSes.  Not\n",
            "everyone has newsgroup access.  ;-)\n",
            "\n",
            "-Kelley-\n",
            "-- \n",
            "-----------------------------------------------------------------\n",
            "Thomas Kelley B...\n",
            "  Key tokens: ['copy', 'relevant', 'article', 'post', 'local', 'newsgroup', 'access', 'powerpc']\n",
            "\n",
            "Topic 3 - Sample document:\n",
            "  Category: comp.windows.x\n",
            "  Domain: Technology\n",
            "  Text preview: Can anyone help with this?\n",
            "\n",
            "System: SPARC Classic, Solaris 2.1, gcc 2.3.3, X11R5\n",
            "\n",
            "When I try to build the XView libraries (xview3, patched with the patch from\n",
            "the X11R5-Solaris kit), I get the followi...\n",
            "  Key tokens: ['help', 'system', 'sparc', 'gcc', 'try', 'build', 'library', 'patch', 'patch', 'kit', 'follow', 'error']\n",
            "\n",
            "Topic 4 - Sample document:\n",
            "  Category: comp.graphics\n",
            "  Domain: Technology\n",
            "  Text preview: \n",
            "\n",
            "\n",
            "I understand there have been a couple of raves in LA billing themselves as\n",
            "\"Virtual Reality\" parties. What I hear they do is project .GIF images around\n",
            "on the walls, as well as run animations throu...\n",
            "  Key tokens: ['understand', 'couple', 'rave', 'bill', 'virtual', 'reality', 'party', 'hear', 'project', 'image', 'wall', 'run']\n",
            "\n",
            "Topic 5 - Sample document:\n",
            "  Category: comp.graphics\n",
            "  Domain: Technology\n",
            "  Text preview: \n",
            "Could you be more specific?  I need that file too but couldn't find it \n",
            "amongst ALL the directories at wuarchive....\n",
            "  Key tokens: ['specific', 'need', 'file', 'find', 'directory', 'wuarchive']\n",
            "\n",
            "Topic 6 - Sample document:\n",
            "  Category: sci.electronics\n",
            "  Domain: Science\n",
            "  Text preview: \n",
            "\n",
            "\n",
            "That is an exceptionally cool idea.\n",
            "Would it work?\n",
            "\n",
            "How strong a field is needed?\n",
            "Anyone?\n",
            "\n",
            "...\n",
            "  Key tokens: ['cool', 'idea', 'work', 'strong', 'field', 'need']\n",
            "\n",
            "Topic 7 - Sample document:\n",
            "  Category: sci.electronics\n",
            "  Domain: Science\n",
            "  Text preview: Acetone will likely damage the carpet. First solvent to try is denatured\n",
            "alcohol. Do not waste your time with rubbing alcohol. You can use methyl\n",
            "alcohol instead of denatured alcohol. If you want to h...\n",
            "  Key tokens: ['acetone', 'damage', 'carpet', 'solvent', 'try', 'denature', 'alcohol', 'waste', 'time', 'rub', 'alcohol', 'use']\n",
            "\n",
            "✅ Topic modeling complete!\n",
            "Best model: 8 topics with coherence score: 0.5395\n",
            "Ready for results interpretation and paper writing!\n"
          ]
        }
      ]
    }
  ]
}